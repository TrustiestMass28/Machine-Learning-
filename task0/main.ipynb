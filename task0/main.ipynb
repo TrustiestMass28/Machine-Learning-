{
 "cells": [
  {
   "cell_type": "code",
   "execution_count": 47,
   "metadata": {},
   "outputs": [],
   "source": [
    "import pandas as pd\n",
    "import numpy as np\n",
    "import csv"
   ]
  },
  {
   "cell_type": "markdown",
   "metadata": {},
   "source": [
    "***Exact Solution***"
   ]
  },
  {
   "cell_type": "code",
   "execution_count": 48,
   "metadata": {},
   "outputs": [],
   "source": [
    "testdata = pd.read_csv('test.csv')\n",
    "(length, width) = np.shape(testdata)"
   ]
  },
  {
   "cell_type": "code",
   "execution_count": 69,
   "metadata": {},
   "outputs": [
    {
     "name": "stdout",
     "output_type": "stream",
     "text": [
      "-316.4073048565\n",
      "30.830555967619173\n",
      "-313.35672638654967\n",
      "-173.25918379960342\n",
      "-327.36871949199826\n",
      "944.3682479562352\n",
      "1122.0173802970994\n",
      "112.33873096549593\n",
      "1372.3402208699679\n",
      "2062.5618424897834\n"
     ]
    }
   ],
   "source": [
    "\n",
    "header = ['Id', 'y']\n",
    "file = open('results.csv', 'w')\n",
    "writer = csv.writer(file)\n",
    "writer.writerow(header)\n",
    "sum = 0\n",
    "for row in range(length):\n",
    "    for col in range(width-1):\n",
    "        sum = sum + testdata.iat[row, col+1]\n",
    "    mean = sum/10\n",
    "    sum=0\n",
    "    newRow = [testdata.iat[row, 0], mean]\n",
    "    writer.writerow(newRow)\n",
    "file.close()"
   ]
  },
  {
   "cell_type": "markdown",
   "metadata": {},
   "source": [
    "***Training***"
   ]
  },
  {
   "cell_type": "code",
   "execution_count": 50,
   "metadata": {},
   "outputs": [],
   "source": [
    "traindata = pd.read_csv('train.csv')\n",
    "Phi = traindata[['x1', 'x2', 'x3', 'x4', 'x5', 'x6', 'x7', 'x8', 'x9', 'x10']].to_numpy()\n",
    "y = traindata[['y']].to_numpy()\n",
    "\n",
    "w_hat = np.linalg.solve(np.dot(Phi.T, Phi), np.dot(Phi.T, y))"
   ]
  },
  {
   "cell_type": "code",
   "execution_count": 71,
   "metadata": {},
   "outputs": [],
   "source": [
    "header = ['Id', 'y']\n",
    "file = open('results_trained.csv', 'w')\n",
    "writer = csv.writer(file)\n",
    "writer.writerow(header)\n",
    "\n",
    "testrow = testdata[['x1', 'x2', 'x3', 'x4', 'x5', 'x6', 'x7', 'x8', 'x9', 'x10']].to_numpy()\n",
    "yApr = testrow@w_hat\n",
    "for row in range(length):\n",
    "    newRow = [testdata.iat[row, 0], yApr.item(row)]\n",
    "    writer.writerow(newRow)\n",
    "file.close()"
   ]
  },
  {
   "cell_type": "code",
   "execution_count": null,
   "metadata": {},
   "outputs": [],
   "source": []
  }
 ],
 "metadata": {
  "interpreter": {
   "hash": "916dbcbb3f70747c44a77c7bcd40155683ae19c65e1c03b4aa3499c5328201f1"
  },
  "kernelspec": {
   "display_name": "Python 3 (ipykernel)",
   "language": "python",
   "name": "python3"
  },
  "language_info": {
   "codemirror_mode": {
    "name": "ipython",
    "version": 3
   },
   "file_extension": ".py",
   "mimetype": "text/x-python",
   "name": "python",
   "nbconvert_exporter": "python",
   "pygments_lexer": "ipython3",
   "version": "3.7.6"
  }
 },
 "nbformat": 4,
 "nbformat_minor": 2
}
